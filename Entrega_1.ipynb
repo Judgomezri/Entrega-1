{
  "nbformat": 4,
  "nbformat_minor": 0,
  "metadata": {
    "colab": {
      "name": "Entrega 1",
      "provenance": [],
      "collapsed_sections": [],
      "toc_visible": true,
      "authorship_tag": "ABX9TyPX+bZr5//A1OU/CZ12H7SO",
      "include_colab_link": true
    },
    "kernelspec": {
      "name": "python3",
      "display_name": "Python 3"
    },
    "language_info": {
      "name": "python"
    }
  },
  "cells": [
    {
      "cell_type": "markdown",
      "metadata": {
        "id": "view-in-github",
        "colab_type": "text"
      },
      "source": [
        "<a href=\"https://colab.research.google.com/github/Judgomezri/Entrega-1/blob/main/Entrega_1.ipynb\" target=\"_parent\"><img src=\"https://colab.research.google.com/assets/colab-badge.svg\" alt=\"Open In Colab\"/></a>"
      ]
    },
    {
      "cell_type": "markdown",
      "metadata": {
        "id": "ClHPyelKUtnP"
      },
      "source": [
        "# **Entrega 1- Juan Daniel Gómez Rios**\n",
        "---"
      ]
    },
    {
      "cell_type": "markdown",
      "metadata": {
        "id": "Zh6XDTF_Uwxg"
      },
      "source": [
        "**Ejercicio 1.2**\n",
        "---\n",
        "---\n",
        "**Suponga que usamos un perceptrón para detectar mensajes spam. Supongamos que cada mensaje está representado por la frecuencia de ocurrencia de las palabras clave, y la salida es +1 si el mensaje es considerado spam.**\n",
        "\n",
        "**(a) ¿Puede pensar en algunas palabras clave que terminarían con un peso positivo muy grande en el perceptrón?**\n",
        "\n",
        "Rta: 'gratis', 'oferta', 'precios bajos'. 'ganador'.\n",
        "\n",
        "<br/>\n",
        "\n",
        "**(b) ¿Qué tal palabras que terminarían con un peso negativo?**\n",
        "\n",
        "Rta: 'profesor', 'parcial', 'Juan Daniel Gómez', 'taller', 'buenas tardes'.\n",
        "\n",
        "<br/>\n",
        "\n",
        "**(c) ¿Qué parámetro en el perceptrón directamente afecta el límite de mensajes que terminan siendo clasificados como spam?**\n",
        "\n",
        "Rta: Es b ya que este parámetro representa el umbral para clasificar los mensajes."
      ]
    },
    {
      "cell_type": "markdown",
      "metadata": {
        "id": "1qZ95IIPX6bb"
      },
      "source": [
        "**Ejercicio 1.3**\n",
        "---\n",
        "---\n",
        "**La regla de actualización de peso en (1.3) tiene la buena interpretación de que se mueve en la dirección para clasificar x (t)  correctamente.**\n",
        "\n",
        "$$w(t + 1) = w(t) + y(t)x(t)..............(1.3)$$  \n",
        "<br/>\n",
        "**(a) Muestre que $y(t)w^T(t)x(t)<0$. [Pista: $x(t)$ está mal clasificado por $w(t)$.]**\n",
        "\n",
        "Rta: Como $x(t)$ está mal clasificado $w^T(t)x(t)$ y $y(t)$ tienen diferente signo, es decir, $y(t)w^T(t)x(t)<0$.\n",
        "\n",
        "<br/>\n",
        "\n",
        "**(b) Muestre que $y(t)w^T(t+1)x(t)>y(t)w^T(t)x(t)$. [Pista: Use (1.3).]**\n",
        "\n",
        "Rta: Sabemos que $w(t+1)= w(t)+y(t)x(t)$, así,\n",
        "<br/>\n",
        "$$y(t)w^T(t+1)x(t)=y(t)(w(t)+y(t)x(t))^Tx(t)$$\n",
        "<br/>\n",
        "$$\\phantom{|||||||||||||||||||||||||||||}=y(t)(w^T(t)+y(t)x^T(t))x(t)$$\n",
        "<br/>\n",
        "$$\\phantom{||||||||||||||||||||||||||||||||||||||}=y(t)w^T(t)x(t)+y(t)y(t)x^T(t)x(t)$$\n",
        "<br/>\n",
        "Como $y(t)y(t)x^T(t)x(t)$ siempre es positivo,\n",
        "\n",
        "<br/>\n",
        "$$y(t)w^T(t+1)x(t)>y(t)w^T(t)x(t)$$\n",
        "\n",
        "<br/>\n",
        "\n",
        "**(c) Con respecto a la clasificación de $x(t)$, argumente que el movimiento de $w(t)$ a $w(t+1)$ es un movimiento \"en la dirección correcta\".**\n",
        "\n",
        "Rta: Por los resultados anteriores sabemos que $y(t)w^T(t)x(t)$ es creciente, y además $w^T(t)x(t)$ y $y(t)$ tienen diferentes signo. Si $y(t)$ es positiva \n",
        "\n"
      ]
    },
    {
      "cell_type": "markdown",
      "metadata": {
        "id": "S7suqWgnZxb0"
      },
      "source": [
        "**Ejercicio 1.10**\n",
        "---\n",
        "---\n",
        "**Aquí hay un experimento que ilustra la diferencia entre un sólo contenedor y varios contenedores. Corra una simulación en el computador para el lanzamiento de 1000 monedas. Lance cada moneda independientemente 10 veces. Pongamos atención a 3 monedas de la siguiente forma: $c_1$ es la primer moneda lanzada; $c_{rand}$ es una moneda escogida al azar; $c_{min}$ es una moneda que tiene la mínima frecuencia de caras (escoja la primera en caso de empate). Sea $v_1$, $v_{rand}$ y $v_{min}$ la fracción de caras  que obtiene para las respectivas tres monedas.**"
      ]
    },
    {
      "cell_type": "code",
      "metadata": {
        "id": "M3Rk3tqyUrz-",
        "colab": {
          "base_uri": "https://localhost:8080/"
        },
        "outputId": "8e1cc38e-c9f4-46e3-b6a8-e2edd3790672"
      },
      "source": [
        "import numpy as np\n",
        "import pandas as pd\n",
        "\n",
        "import matplotlib.pyplot as plt\n",
        "\n",
        "def flipping():\n",
        "\n",
        "    sum_values = np.zeros(1000)\n",
        "    \n",
        "    for i in range(10):\n",
        "        # generamos valores aleatorios de cara y sello representados como 1's y 0's y los vamos sumando\n",
        "        sum_values = sum_values + np.random.randint(0, 2, 1000)\n",
        "    \n",
        "\n",
        "    frequency = sum_values/flips\n",
        "    crand = np.random.choice(coins)\n",
        "    cmin = np.argmin(sum_values)\n",
        "    v1 = frequency[0]\n",
        "    vrand = frequency[crand]\n",
        "    vmin = frequency[cmin]\n",
        "\n",
        "    return v1,vrand,vmin\n",
        "\n",
        "v1, vrand, vmin = flipping()\n",
        "print('Frecuencia de c1: ', v1)\n",
        "print('Frequencia de crand: ', vrand)\n",
        "print('Frequencia de cmin: ', vmin)"
      ],
      "execution_count": null,
      "outputs": [
        {
          "output_type": "stream",
          "text": [
            "Frecuencia de c1:  0.7\n",
            "Frequencia de crand:  0.6\n",
            "Frequencia de cmin:  0.0\n"
          ],
          "name": "stdout"
        }
      ]
    },
    {
      "cell_type": "markdown",
      "metadata": {
        "id": "WG6QLIk9KV4t"
      },
      "source": [
        "**(a) ¿Qué es $\\mu$ para las tres monedas seleccionadas?**\n",
        "\n",
        "Rta: $\\mu=0.5$ ya que todas tienen la misma probabilidad de ser cara o sello.\n",
        "\n",
        "<br/>\n",
        "\n",
        "**(b) Repita completamente el experimento una gran cantidad de veces (por ejemplo 100000 veces) para obtener muchas instancias de $v_1$, $v_{rand}$ y $v_{min}$ y dibuje los histogramas de distribución de cada uno. Note que los valores $c_{rand}$ y $c_{min}$ de cada moneda pueden variar de una ejecución a otra.**"
      ]
    },
    {
      "cell_type": "code",
      "metadata": {
        "id": "2smBQditKnXv",
        "colab": {
          "base_uri": "https://localhost:8080/",
          "height": 297
        },
        "outputId": "ee4d67d0-4dbc-4d13-db48-baca8513430f"
      },
      "source": [
        "amount = 100000\n",
        "v1Total =[]\n",
        "vrandTotal =[]\n",
        "vminTotal =[]\n",
        "#ejecutamos la función 100000 veces\n",
        "for i in range(amount):\n",
        "    v1, vrand, vmin = flipping()\n",
        "    v1Total.append(v1)\n",
        "    vrandTotal.append(vrand)\n",
        "    vminTotal.append(vmin)\n",
        "v1T =np.array(v1Total)\n",
        "vrandT =np.array(vrandTotal)\n",
        "vminT =np.array(vminTotal)\n",
        "\n",
        "fig, axs = plt.subplots(1,3,sharey=True)\n",
        "axs[0].hist(v1T,bins=10)\n",
        "axs[0].set_xlabel('v1')\n",
        "axs[1].hist(vrandT,bins=10)\n",
        "axs[1].set_xlabel('vrand')\n",
        "axs[2].hist(vminT,bins=10)\n",
        "axs[2].set_xlabel('vmin')\n",
        "fig.tight_layout()\n",
        "plt.show()"
      ],
      "execution_count": null,
      "outputs": [
        {
          "output_type": "display_data",
          "data": {
            "image/png": "[encoded data removed]",
            "text/plain": [
              "<Figure size 432x288 with 3 Axes>"
            ]
          },
          "metadata": {
            "tags": [],
            "needs_background": "light"
          }
        }
      ]
    },
    {
      "cell_type": "markdown",
      "metadata": {
        "id": "JCzNpTZ_KnnZ"
      },
      "source": [
        "**(c) Usando (b), dibuje los estimados para $\\mathbb{P}[|v-\\mu|>\\epsilon]$ como una función de $\\epsilon$ junto con el límite Hoeffding $2e^{-2\\epsilon^2N}$ (en el mismo grafo).**\\"
      ]
    },
    {
      "cell_type": "code",
      "metadata": {
        "colab": {
          "base_uri": "https://localhost:8080/",
          "height": 282
        },
        "id": "StrJQi2ccZNs",
        "outputId": "dba9faf6-8746-4485-e3b2-ad3b190394fe"
      },
      "source": [
        "e = np.arange(0.0,1,0.1)\n",
        "\n",
        "pv1=np.zeros(10)\n",
        "pvrand=np.zeros(10)\n",
        "pvmin = np.zeros(10)\n",
        "for i in range(10):\n",
        "    pv1[i] = np.sum(np.abs(v1T-0.5) > eps[i])/amount\n",
        "    pvrand[i] = (np.sum(np.abs(vrandT-0.5) > eps[i])/amount)\n",
        "    pvmin[i] = np.sum(np.abs(vminT-0.5) > eps[i])/amount\n",
        "\n",
        "lim = 2.0*np.exp(-2*(e**2)*10)\n",
        "\n",
        "plt.plot(e, lim, marker='', color='r', label='Hoeffding')\n",
        "plt.plot(e, pv1, marker='', color='k', linewidth=1, label='C1')\n",
        "plt.plot(e, pvrand, marker='', color='b', linewidth=1, label='Crand')\n",
        "plt.plot(e, pvmin, marker='', color='g', linewidth=1, label='Cmin')\n",
        "plt.legend()"
      ],
      "execution_count": null,
      "outputs": [
        {
          "output_type": "execute_result",
          "data": {
            "text/plain": [
              "<matplotlib.legend.Legend at 0x7f5e81972490>"
            ]
          },
          "metadata": {
            "tags": []
          },
          "execution_count": 67
        },
        {
          "output_type": "display_data",
          "data": {
            "image/png": "[encoded data removed]",
            "text/plain": [
              "<Figure size 432x288 with 1 Axes>"
            ]
          },
          "metadata": {
            "tags": [],
            "needs_background": "light"
          }
        }
      ]
    },
    {
      "cell_type": "markdown",
      "metadata": {
        "id": "I7ldoAt2cYgN"
      },
      "source": [
        "**(d) ¿Cuáles monedas obedecen el límite de Hoeffding y cuáles no? Explique porqué.**\n",
        "\n",
        "Rta: Como se ve en la gráfica, las monedas C1 y Crand obedecen el límite de Hoeffding. Cmin no obedece ya que es criterio necesario que la moneda sea escogida antes de realizar los lanzamientos y Cmin es escogida después de ya lanzada. En el caso de Crand al ser escogida aleatoriamente, escogerla después es similar a escogerla al inicio.\n",
        "\n",
        "<br/>\n",
        "\n",
        "**(e) Relacione la parte (d) con los múltiples contenedores de la figura.**\n",
        "\n",
        "<br/>\n",
        "\n",
        "![Figura 1.10](https://drive.google.com/uc?id=1MbOO_lwwpary__fnol9PkJEKIQB6Xvmn)\n",
        "\n",
        "<br/>\n",
        "\n",
        "![Figura 1.10.color](https://drive.google.com/uc?id=1ue-lq3ysgH3UJIJlJDUASZpus7ziq_MW)\\\n",
        "\n",
        "<br/>\n",
        "\n",
        "Rta: Escoger Cmin al final del algoritmo se asemeja a escoger un contenedor ya lleno, como si sólo usaramos una hipótesis en el algoritmo, contrario a C1 y Crand que equivalen a tomar un contenedor vacío antes de iniciar el algoritmo."
      ]
    },
    {
      "cell_type": "markdown",
      "metadata": {
        "id": "bfee7tudt99o"
      },
      "source": [
        "**Ejercicio 1.11**\n",
        "---\n",
        "---\n",
        "**Nos dan un conjunto de datos $D$ de 25 ejemplos de entrenamiento de una función de objetivo desconocido $f: X \\to Y$, donde $X=\\mathbb{R}$ y $Y=\\{-1,+1\\}$. Para aprender de $f$, usamos un conjunto de hipótesis simple $H=\\{h_1,h_2\\}$ donde $h_1$ es la función constante $+1$ y $h_2$ es la constante $-1$.**\n",
        "\n",
        "**Consideramos dos algoritmos de aprendizaje, S (smart) y C (crazy). S escoge la hipótesis que está más de acuerdo con $D$ y C escoge la otra hipótesis de manera deliberada. Veamos cómo se comportan estos algoritmos fuera de la muestra desde los puntos de vista determinista y probabilístico. Asuma en el punto de vista probabilístico que hay una distribución de probabilidad en $X$, y sea $\\mathbb{P}[f(x)=+1]=p$**.\n",
        "\n",
        "<br/>\n",
        "\n",
        "**(a) ¿Puede S producir una hipótesis que garantice un comportamiento mejor que uno que produzca una hipótesis al azar para todo punto fuera de $D$?**\n",
        "\n",
        "Rta: Suponiendo que para cada ejemplo en $D$ implica $+1$ en $f$ pero todos los puntos nuevos en $X$ implican $-1$ en $f$ podemos notar que $S$ producirá la hipótesis $h_1$ por lo que S siempre estará incorrecto para cada nuevo punto en $X$. Si escogieramos la hipotesis aleatoriamente la probabilidad de escoger $h_2$ (que da resultados correctos) es de $0.5$, por lo que en teoría, $f$ estaría en lo correcto aproximadamente la mitad de las veces, lo cual es mejor que lo producido por S.\n",
        "\n",
        "<br/>\n",
        "\n",
        "**(b) Asuma en adelante que todos los ejemplos en $D$ tienen $y_n=+1$. ¿Es posible que la hipótesis que produce C resulte ser mejor que la hipótesis que produce S?**\n",
        "\n",
        "Rta: Como se explicó anteriormente si para todo ejemplo en $D$ se obtiene un $+1$ en $f$ y por lo tanto S escogerá la hipótesis $h_1$. Si la probabilidad de que los nuevos puntos en $X$ produzcan un $+1$ en $f$ es mayor que la de $-1$, es claro que S producirá un mejor resultado que C. Pero si la probabilidad es justo lo contrario, C producirá mejores resultados. Es decir, si es posible.\\\n",
        "\n",
        "<br/>\n",
        "\n",
        "**(c) Si $p=0.9$, ¿cuál es la probabilidad de que S vaya a producir una hipótesis mejor que C?**\n",
        "\n",
        "Rta:S escogerá $h_1$, como los valores de $X$ producirán un $+1$ en $f$ con una probabilidad 0.9 S estará en lo correcto una gran parte de las veces, es decir S siempre producirá una hipótesis mejor que C.\n",
        "\n",
        "<br/>\n",
        "\n",
        "**(d) ¿Hay algún valor de $p$ para el cual es mas probable que C vaya a producir una mejor hipótesis que S?**\n",
        "\n",
        "Rta: Como lo explicado en (b), si la probabilidad $p$ es menor a 0.5 y como S escogera a $h_1$, en promedio, S estará en lo correcto menos de la mitad de las veces, es decir C estará en lo correcto más de la mitad de las veces. Todo valor $p<0.5$ hará que C produzca una mejor hipótesis."
      ]
    },
    {
      "cell_type": "markdown",
      "metadata": {
        "id": "5Cs_U6tyIF9J"
      },
      "source": [
        "**Ejercicio sobre la convergencia del perceptrón**\n",
        "---\n",
        "---\n",
        "¿Qué significa la siguiente expresión en la convergencia del perceptrón?\n",
        "\n",
        "$$\\frac{||\\theta^*||^2}{\\gamma^2}$$\n",
        "\n",
        "Rta: Teniendo en cuenta el valor de $R$ podemos llegar a que\n",
        "\n",
        "$$k\\leq \\frac{R^2||\\theta^*||^2}{\\gamma^2},$$\n",
        "\n",
        "con $k$ representando la cantidad de pasos efectuados el algoritmo. Es decir, la expresión actúa como una acotación de $k$, dando un estimado de máxima cantidad de pasos para la cual el algoritmo converge."
      ]
    },
    {
      "cell_type": "markdown",
      "metadata": {
        "id": "SxowU9_TQzq7"
      },
      "source": [
        "**XOR**\n",
        "---\n",
        "---\n",
        "![XOR](https://drive.google.com/uc?id=1ica6qpyYzKbemqup69b_46kvBWwFMz0-)\n",
        "\n",
        "| $(x_1,x_2)$ | (NOR, AND) | NOR  |\n",
        "| --- | --- |\n",
        "| (0,0) | (1,0) | 0 |\n",
        "| (1,0) | (0,0) | 1 |\n",
        "| (0,1) | (0,0) | 1 | \n",
        "| (1,1) | (0,1) | 0 |"
      ]
    }
  ]
}